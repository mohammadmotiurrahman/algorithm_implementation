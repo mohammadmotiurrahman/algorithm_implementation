{
  "nbformat": 4,
  "nbformat_minor": 0,
  "metadata": {
    "colab": {
      "name": "hello_world.ipynb",
      "provenance": [],
      "authorship_tag": "ABX9TyOgCEXS9JGlOuTIRDP53jhi",
      "include_colab_link": true
    },
    "kernelspec": {
      "name": "python3",
      "display_name": "Python 3"
    }
  },
  "cells": [
    {
      "cell_type": "markdown",
      "metadata": {
        "id": "view-in-github",
        "colab_type": "text"
      },
      "source": [
        "<a href=\"https://colab.research.google.com/github/mohammadmotiurrahman/algorithm_implementation/blob/main/hello_world.ipynb\" target=\"_parent\"><img src=\"https://colab.research.google.com/assets/colab-badge.svg\" alt=\"Open In Colab\"/></a>"
      ]
    },
    {
      "cell_type": "code",
      "metadata": {
        "colab": {
          "base_uri": "https://localhost:8080/"
        },
        "id": "VFhMkxFAhDXl",
        "outputId": "f72d803f-958c-4d19-813e-4454bdb9eb8c"
      },
      "source": [
        "%%writefile test.cpp\n",
        "#include <iostream>\n",
        "using namespace std;\n",
        "int main(){\n",
        "    cout<<\"Hello\"<<endl;\n",
        "    return 0;\n",
        "}"
      ],
      "execution_count": 3,
      "outputs": [
        {
          "output_type": "stream",
          "text": [
            "Writing test.cpp\n"
          ],
          "name": "stdout"
        }
      ]
    },
    {
      "cell_type": "code",
      "metadata": {
        "colab": {
          "base_uri": "https://localhost:8080/"
        },
        "id": "gOKaShIahO69",
        "outputId": "b10e3014-bbc9-41e5-dfcf-211e8bfe3fbf"
      },
      "source": [
        "%%script bash\n",
        "g++ test.cpp -o test \n",
        "./test"
      ],
      "execution_count": 4,
      "outputs": [
        {
          "output_type": "stream",
          "text": [
            "Hello\n"
          ],
          "name": "stdout"
        }
      ]
    }
  ]
}