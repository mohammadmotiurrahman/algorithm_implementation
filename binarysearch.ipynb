{
  "nbformat": 4,
  "nbformat_minor": 0,
  "metadata": {
    "colab": {
      "name": "binarysearch.ipynb",
      "provenance": [],
      "authorship_tag": "ABX9TyOoPbMIALow+YB/3/VbzQPy",
      "include_colab_link": true
    },
    "kernelspec": {
      "name": "python3",
      "display_name": "Python 3"
    }
  },
  "cells": [
    {
      "cell_type": "markdown",
      "metadata": {
        "id": "view-in-github",
        "colab_type": "text"
      },
      "source": [
        "<a href=\"https://colab.research.google.com/github/mohammadmotiurrahman/algorithm_implementation/blob/main/binarysearch.ipynb\" target=\"_parent\"><img src=\"https://colab.research.google.com/assets/colab-badge.svg\" alt=\"Open In Colab\"/></a>"
      ]
    },
    {
      "cell_type": "markdown",
      "metadata": {
        "id": "aCOs4dwwN-c_"
      },
      "source": [
        "# `Implementation of binary search`"
      ]
    },
    {
      "cell_type": "code",
      "metadata": {
        "colab": {
          "base_uri": "https://localhost:8080/"
        },
        "id": "ywJNKMexNWHD",
        "outputId": "ffe0d216-5f88-4bea-b4b9-6eb9488b1b78"
      },
      "source": [
        "%%writefile test.cpp\r\n",
        "#include <iostream>\r\n",
        "using namespace std;\r\n",
        "\r\n",
        "bool binarySearch(int* a, int low, int high, int key) {\r\n",
        "\tif (low > high) return false;\r\n",
        "\tint mid = (low + high) / 2;\r\n",
        "\tif (a[mid] == key)return true;\r\n",
        "\telse if (key < a[mid]) return binarySearch(a, low, mid, key);\r\n",
        "\telse return binarySearch(a, mid+1, high, key);\r\n",
        "}\r\n",
        "int main() {\r\n",
        "\tint N = 5;\r\n",
        "\tint * arr = new int[N]{ 4,3,2,1,0 };\r\n",
        "\tcout << binarySearch(arr, 0, 4, 2) << endl;\r\n",
        "\treturn 0;\r\n",
        "}"
      ],
      "execution_count": 1,
      "outputs": [
        {
          "output_type": "stream",
          "text": [
            "Writing test.cpp\n"
          ],
          "name": "stdout"
        }
      ]
    },
    {
      "cell_type": "code",
      "metadata": {
        "colab": {
          "base_uri": "https://localhost:8080/"
        },
        "id": "g55uMEVwNlHr",
        "outputId": "b3cb8bfd-c590-4f29-88d7-944137b7d107"
      },
      "source": [
        "%%script bash\r\n",
        "g++ test.cpp -o test \r\n",
        "./test"
      ],
      "execution_count": 2,
      "outputs": [
        {
          "output_type": "stream",
          "text": [
            "1\n"
          ],
          "name": "stdout"
        }
      ]
    },
    {
      "cell_type": "code",
      "metadata": {
        "id": "Hu5613qdOFdE"
      },
      "source": [
        ""
      ],
      "execution_count": null,
      "outputs": []
    }
  ]
}