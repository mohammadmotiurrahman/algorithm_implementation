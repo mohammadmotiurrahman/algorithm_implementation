{
  "nbformat": 4,
  "nbformat_minor": 0,
  "metadata": {
    "colab": {
      "name": "mergesort.ipynb",
      "provenance": [],
      "authorship_tag": "ABX9TyNmlM7zCjwtrgkufE9jSHfz",
      "include_colab_link": true
    },
    "kernelspec": {
      "name": "python3",
      "display_name": "Python 3"
    }
  },
  "cells": [
    {
      "cell_type": "markdown",
      "metadata": {
        "id": "view-in-github",
        "colab_type": "text"
      },
      "source": [
        "<a href=\"https://colab.research.google.com/github/mohammadmotiurrahman/algorithm_implementation/blob/main/mergesort.ipynb\" target=\"_parent\"><img src=\"https://colab.research.google.com/assets/colab-badge.svg\" alt=\"Open In Colab\"/></a>"
      ]
    },
    {
      "cell_type": "markdown",
      "metadata": {
        "id": "Br-UYEKE4yCt"
      },
      "source": [
        "# `Implementation of Mergesort Algorithm`"
      ]
    },
    {
      "cell_type": "code",
      "metadata": {
        "colab": {
          "base_uri": "https://localhost:8080/"
        },
        "id": "_CVhmKV_1-rN",
        "outputId": "86ab684a-9c9b-442d-f91f-c8ef8a5d3e8e"
      },
      "source": [
        "%%writefile test.cpp\r\n",
        "#include <iostream>\r\n",
        "using namespace std;\r\n",
        "\r\n",
        "void merge(size_t* arr, size_t low, size_t mid, size_t high) {\r\n",
        "\tint len1 = mid - low + 1;\r\n",
        "\tint len2 = high - mid;\r\n",
        "\t\r\n",
        "\tint* arr1 = new int[len1];\r\n",
        "\tint* arr2 = new int[len2];\r\n",
        "\r\n",
        "  /*The indexing would be done in context of the \r\n",
        "  original array arr, so be careful of 'low'\r\n",
        "  and 'mid' index*/\r\n",
        "\tfor (int i = 0; i < len1; ++i) {\r\n",
        "\t\tarr1[i] = arr[low + i];\r\n",
        "\t}\r\n",
        "\tfor (int i = 0; i < len2; ++i) {\r\n",
        "\t\tarr2[i] = arr[mid + 1 + i];\r\n",
        "\t}\r\n",
        "  //k needs to point to the smallest index\r\n",
        "\tint i = 0; int j = 0; int k = low;\r\n",
        "\twhile ((i < len1) && (j < len2)) {\r\n",
        "\t\tif (arr1[i] <= arr2[j]) {\r\n",
        "\t\t\tarr[k] = arr1[i];\r\n",
        "\t\t\ti = i + 1;\r\n",
        "\t\t}\r\n",
        "\t\telse {\r\n",
        "\t\t\tarr[k] = arr2[j];\r\n",
        "\t\t\tj = j + 1;\r\n",
        "\t\t}\r\n",
        "\t\tk = k + 1;\r\n",
        "\t}\r\n",
        "\r\n",
        "\twhile (i < len1) {\r\n",
        "\t\tarr[k] = arr1[i];\r\n",
        "\t\ti = i + 1;\r\n",
        "\t\tk = k + 1;\r\n",
        "\t}\r\n",
        "\twhile (j < len2) {\r\n",
        "\t\tarr[k] = arr2[j];\r\n",
        "\t\tj = j + 1;\r\n",
        "\t\tk = k + 1;\r\n",
        "\t}\r\n",
        "}\r\n",
        "void msort(size_t* arr, size_t low, size_t high) {\r\n",
        "\r\n",
        "\tif (low < high) {\r\n",
        "\t\tsize_t mid = (high + low - 1) / 2;\r\n",
        "\t\tmsort(arr, low, mid);\r\n",
        "\t\tmsort(arr, mid + 1, high);\r\n",
        "\t\tmerge(arr, low, mid, high);\r\n",
        "\t}\r\n",
        "}\r\n",
        "\r\n",
        "int main() {\r\n",
        "\tsize_t N = 5;\r\n",
        "\tsize_t* a = new size_t[N]{ 4,3,2,1,0 };\r\n",
        "\r\n",
        "\tmsort(a, 0, N - 1);\r\n",
        "\tfor (int i = 0; i < N; ++i) {\r\n",
        "\t\tcout << a[i] << \" \";\r\n",
        "\t}\r\n",
        "\treturn 0;\r\n",
        "}"
      ],
      "execution_count": 6,
      "outputs": [
        {
          "output_type": "stream",
          "text": [
            "Overwriting test.cpp\n"
          ],
          "name": "stdout"
        }
      ]
    },
    {
      "cell_type": "code",
      "metadata": {
        "colab": {
          "base_uri": "https://localhost:8080/"
        },
        "id": "vTsJCuDs2qg5",
        "outputId": "36fa69e7-155e-43f4-95aa-683ea16e8846"
      },
      "source": [
        "%%script bash\r\n",
        "g++ test.cpp -o test \r\n",
        "./test"
      ],
      "execution_count": 7,
      "outputs": [
        {
          "output_type": "stream",
          "text": [
            "0 1 2 3 4 "
          ],
          "name": "stdout"
        }
      ]
    },
    {
      "cell_type": "markdown",
      "metadata": {
        "id": "2o7cZJtb3V63"
      },
      "source": [
        ""
      ]
    }
  ]
}