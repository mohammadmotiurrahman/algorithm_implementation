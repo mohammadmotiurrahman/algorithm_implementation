{
  "nbformat": 4,
  "nbformat_minor": 0,
  "metadata": {
    "colab": {
      "name": "quicksort.ipynb",
      "provenance": [],
      "authorship_tag": "ABX9TyOlmjqYYV0CwkSaEQet6pMt",
      "include_colab_link": true
    },
    "kernelspec": {
      "name": "python3",
      "display_name": "Python 3"
    }
  },
  "cells": [
    {
      "cell_type": "markdown",
      "metadata": {
        "id": "view-in-github",
        "colab_type": "text"
      },
      "source": [
        "<a href=\"https://colab.research.google.com/github/mohammadmotiurrahman/algorithm_implementation/blob/main/quicksort.ipynb\" target=\"_parent\"><img src=\"https://colab.research.google.com/assets/colab-badge.svg\" alt=\"Open In Colab\"/></a>"
      ]
    },
    {
      "cell_type": "markdown",
      "metadata": {
        "id": "fiIYs94QLiQB"
      },
      "source": [
        "# `Implementation of Quick Sort`"
      ]
    },
    {
      "cell_type": "code",
      "metadata": {
        "colab": {
          "base_uri": "https://localhost:8080/"
        },
        "id": "f3Jrf-rpLFOe",
        "outputId": "39432980-8a01-452b-bcaa-11c9bd02520f"
      },
      "source": [
        "%%writefile test.cpp\r\n",
        "#include <iostream>\r\n",
        "using namespace std;\r\n",
        "\r\n",
        "int partition(int* a, int l, int r) {\r\n",
        "\tint pivot = a[l];\r\n",
        "\tint i = l + 1;\r\n",
        "\tfor (int j = l + 1; j <= r; ++j) {\r\n",
        "\t\tif (a[j] < pivot) {\r\n",
        "\t\t\tswap(a[j], a[i]);\r\n",
        "\t\t\ti = i + 1;\r\n",
        "\t\t}\r\n",
        "\t}\r\n",
        "\tswap(a[l], a[i - 1]);\r\n",
        "\treturn i-1;\r\n",
        "}\r\n",
        "void qsort(int* a, int p, int r) {\r\n",
        "\tint q = -1;\r\n",
        "\tif (p < r) {\r\n",
        "\t\tq = partition(a, p, r);\r\n",
        "\t\tqsort(a, p, q - 1);\r\n",
        "\t\tqsort(a, q + 1, r);\r\n",
        "\t}\r\n",
        "}\r\n",
        "int main() {\r\n",
        "\tint N = 16;\r\n",
        "\tint* a = new int[N];\r\n",
        "\tfor (int i = 0; i < N; ++i) {\r\n",
        "\t\ta[i] = rand() % 100;\r\n",
        "\t}\r\n",
        "\tqsort(a, 0, N-1);\r\n",
        "\tfor (int i = 0; i < N; ++i) {\r\n",
        "\t\tcout << a[i] << \" \";\r\n",
        "\t}\r\n",
        "\treturn 0;\r\n",
        "}"
      ],
      "execution_count": 1,
      "outputs": [
        {
          "output_type": "stream",
          "text": [
            "Writing test.cpp\n"
          ],
          "name": "stdout"
        }
      ]
    },
    {
      "cell_type": "code",
      "metadata": {
        "colab": {
          "base_uri": "https://localhost:8080/"
        },
        "id": "hBut7GFSLVn1",
        "outputId": "475719d1-bff2-475f-bb9b-d94eb5370edf"
      },
      "source": [
        "%%script bash\r\n",
        "g++ test.cpp -o test \r\n",
        "./test"
      ],
      "execution_count": 2,
      "outputs": [
        {
          "output_type": "stream",
          "text": [
            "15 21 26 27 35 49 59 62 63 77 83 86 86 90 92 93 "
          ],
          "name": "stdout"
        }
      ]
    }
  ]
}